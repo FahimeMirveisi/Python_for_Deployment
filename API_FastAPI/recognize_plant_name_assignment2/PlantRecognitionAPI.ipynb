{
 "cells": [
  {
   "cell_type": "code",
   "execution_count": null,
   "metadata": {},
   "outputs": [],
   "source": [
    "import requests\n",
    "import dotenv\n",
    "import os\n",
    "import argparse\n"
   ]
  },
  {
   "cell_type": "code",
   "execution_count": 5,
   "metadata": {},
   "outputs": [],
   "source": [
    "dotenv = dotenv.load_dotenv()"
   ]
  },
  {
   "cell_type": "markdown",
   "metadata": {},
   "source": [
    "## Illusion Diffusion API"
   ]
  },
  {
   "cell_type": "code",
   "execution_count": null,
   "metadata": {},
   "outputs": [],
   "source": [
    "illusion_url = \"https://54285744-illusion-diffusion.gateway.alpha.fal.ai/\"\n",
    "\n",
    "illusion_API_KEY = os.getenv(\"illusion_API_KEY\")\n",
    "\n",
    "headers = {\n",
    "    \"Authorization\": illusion_API_KEY,\n",
    "    \"Content-Type\": \"application/json\"\n",
    "}\n",
    "\n",
    "payload = {\n",
    "    \"image_url\": \"https://storage.googleapis.com/falserverless/illusion-examples/cubes.jpeg\",\n",
    "    \"prompt\": \"(masterpiece:1.4), (best quality), (detailed), A village scene full of cows with mountains in the distance cover with snow\",\n",
    "    \"negative_prompt\": \"(worst quality, poor details:1.4), lowres, (artist name, signature, watermark:1.4), bad-artist-anime, bad_prompt_version2, bad-hands-5, ng_deepnegative_v1_75t\"\n",
    "}\n",
    "\n",
    "response = requests.post(illusion_url, headers=headers, json=payload)\n",
    "response.status_code"
   ]
  },
  {
   "cell_type": "code",
   "execution_count": null,
   "metadata": {},
   "outputs": [],
   "source": [
    "response.text"
   ]
  },
  {
   "cell_type": "markdown",
   "metadata": {},
   "source": [
    "## PlantAPI"
   ]
  },
  {
   "cell_type": "code",
   "execution_count": null,
   "metadata": {},
   "outputs": [],
   "source": [
    "url = \"https://my-api.plantnet.org/v2/identify/all\"\n",
    "\n",
    "PlantNet_API_KEY = os.getenv(\"PlantNet_API_KEY\")\n",
    "\n",
    "headers = {\n",
    "}\n",
    "\n",
    "payload = {\n",
    "    \"api_key\": PlantNet_API_KEY\n",
    "}\n",
    "\n",
    "files = {\n",
    "    \"images\": open()\n",
    "}\n",
    "\n",
    "response = requests.post(url, headers=headers, params=payload, files=files)\n",
    "response.status_code"
   ]
  }
 ],
 "metadata": {
  "kernelspec": {
   "display_name": "Python 3",
   "language": "python",
   "name": "python3"
  },
  "language_info": {
   "codemirror_mode": {
    "name": "ipython",
    "version": 3
   },
   "file_extension": ".py",
   "mimetype": "text/x-python",
   "name": "python",
   "nbconvert_exporter": "python",
   "pygments_lexer": "ipython3",
   "version": "3.10.12"
  }
 },
 "nbformat": 4,
 "nbformat_minor": 2
}
